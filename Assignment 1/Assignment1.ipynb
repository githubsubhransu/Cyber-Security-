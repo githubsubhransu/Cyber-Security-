{
 "cells": [
  {
   "cell_type": "markdown",
   "id": "f6eccf8a-7679-43a8-8d4c-1f968f6863c7",
   "metadata": {},
   "source": [
    "<div style=\"background-color: #fdf4f5; padding: 20px; border: 1px solid #f8d7da; border-radius: 8px; max-width: 800px; margin: 20px auto; box-shadow: 0 4px 10px rgba(0, 0, 0, 0.1); text-align: center;\">\n",
    "  <h1 style=\"color: #d6336c; font-family: 'Roboto', sans-serif; font-size: 28px; margin: 0; font-weight: 700;\">\n",
    "    Long Text Summary Generation by ML Techniques\n",
    "  </h1>\n",
    "</div>\n"
   ]
  },
  {
   "cell_type": "markdown",
   "id": "6c71770d-fc25-4e48-b05c-87e9d78fa819",
   "metadata": {},
   "source": [
    "<div style=\"background-color: #f4f8fb; padding: 20px; border: 1px solid #d1e7f7; border-radius: 8px; max-width: 600px; margin: 20px auto; box-shadow: 0 4px 10px rgba(0, 0, 0, 0.1); text-align: center;\">\n",
    "  <h2 style=\"color: #0a74da; font-family: 'Roboto', sans-serif; margin-bottom: 8px; font-weight: 700; text-align: center;\">Project Created By</h2>\n",
    "  <p style=\"color: #333333; font-size: 18px; font-family: 'Roboto', sans-serif; margin: 10px 0; text-align: center;\">\n",
    "    <strong>Subhransu Mishra</strong> | <strong>2023AC05489</strong>\n",
    "  </p>\n",
    "  <p style=\"color: #666666; font-size: 16px; font-family: 'Roboto', sans-serif; margin: 5px 0; line-height: 1.5; text-align: center;\">\n",
    "    AIML CS567 | Assignment 1\n",
    "  </p>\n",
    "</div>\n"
   ]
  },
  {
   "cell_type": "markdown",
   "id": "354b5489-11b7-44ca-a57a-2ca5af833694",
   "metadata": {},
   "source": [
    "<div style=\"background-color: #f7fafc; padding: 20px; border: 1px solid #e2e8f0; border-radius: 8px; max-width: 700px; margin: 20px auto; box-shadow: 0 4px 10px rgba(0, 0, 0, 0.1);\">\n",
    "  <h4 style=\"color: #2b6cb0; font-family: 'Roboto', sans-serif; margin-bottom: 12px; font-weight: 600; text-align: center;\">\n",
    "    Problem Statement\n",
    "  </h4>\n",
    "  <p style=\"color: #2d3748; font-size: 16px; font-family: 'Roboto', sans-serif; line-height: 1.6; text-align: center;\">\n",
    "    Build a summary of long pieces of text, keeping key information content and overall meaning. \n",
    "    The summary must represent the most important or relevant information within the text.\n",
    "  </p>\n",
    "</div>\n"
   ]
  },
  {
   "cell_type": "markdown",
   "id": "6228e7a9-fdc6-4ad8-9155-0107ffa8e762",
   "metadata": {},
   "source": [
    "<h2 style=\"color: #2b6cb0; font-family: 'Roboto', sans-serif; font-weight: 600; text-align: left;\">\n",
    "Approach 1: Using IDF TF-IDF Along with POS (Part-of-Speech) Tagging\n",
    "</h2>\n"
   ]
  },
  {
   "cell_type": "markdown",
   "id": "25b37d38-54b5-432c-ba65-0338d087ee06",
   "metadata": {},
   "source": [
    "### Import of Tools & Libraries"
   ]
  },
  {
   "cell_type": "code",
   "execution_count": 298,
   "id": "ace06366-e97f-4892-9de7-ed0583458dc5",
   "metadata": {},
   "outputs": [
    {
     "name": "stderr",
     "output_type": "stream",
     "text": [
      "[nltk_data] Downloading package punkt to /Users/I531265/nltk_data...\n",
      "[nltk_data]   Package punkt is already up-to-date!\n",
      "[nltk_data] Downloading package punkt_tab to\n",
      "[nltk_data]     /Users/I531265/nltk_data...\n",
      "[nltk_data]   Package punkt_tab is already up-to-date!\n",
      "[nltk_data] Downloading package stopwords to\n",
      "[nltk_data]     /Users/I531265/nltk_data...\n",
      "[nltk_data]   Package stopwords is already up-to-date!\n",
      "[nltk_data] Downloading package averaged_perceptron_tagger to\n",
      "[nltk_data]     /Users/I531265/nltk_data...\n",
      "[nltk_data]   Package averaged_perceptron_tagger is already up-to-\n",
      "[nltk_data]       date!\n"
     ]
    },
    {
     "data": {
      "text/plain": [
       "True"
      ]
     },
     "execution_count": 298,
     "metadata": {},
     "output_type": "execute_result"
    }
   ],
   "source": [
    "import requests\n",
    "from bs4 import BeautifulSoup\n",
    "import re  \n",
    "\n",
    "import nltk\n",
    "# NLTK tokenizer models \n",
    "nltk.download('punkt')\n",
    "nltk.download('punkt_tab')\n",
    "\n",
    "from collections import Counter\n",
    "from collections import defaultdict\n",
    "\n",
    "from nltk.corpus import stopwords\n",
    "\n",
    "nltk.download('stopwords')\n",
    "# Load NLTK's list of stop words\n",
    "stop_words = set(stopwords.words('english'))\n",
    "\n",
    "import math\n",
    "nltk.download('averaged_perceptron_tagger')"
   ]
  },
  {
   "cell_type": "markdown",
   "id": "acdeb37b-9c6e-4e48-963e-b7ef0d7b0409",
   "metadata": {},
   "source": [
    "### Obtain Source Data Using Web-Scrapping Technique followed by Sanitization of Data"
   ]
  },
  {
   "cell_type": "code",
   "execution_count": 299,
   "id": "15e00c8d-56bb-4f93-ab12-b18dff937d18",
   "metadata": {
    "scrolled": true
   },
   "outputs": [
    {
     "name": "stdout",
     "output_type": "stream",
     "text": [
      "Preview of Scraped Text first 30 lines:\n",
      "\n",
      "Computer security (also cybersecurity, digital security, or information technology (IT) security) is the protection of computer software, systems and networks from threats that can lead to unauthorized information disclosure, theft or damage to hardware, software, or data, as well as from the disruption or misdirection of the services they provide.\n",
      "\n",
      "The significance of the field stems from the expanded reliance on computer systems, the Internet, and wireless network standards. Its importance is further amplified by the growth of smart devices, including smartphones, televisions, and the various devices that constitute the Internet of things (IoT). Cybersecurity has emerged as one of the most significant new challenges facing the contemporary world, due to both the complexity of information systems and the societies they support. Security is particularly crucial for systems that govern large-scale systems with far-reaching physical effects, such as power distribution, elections, and finance.\n",
      "\n",
      "Although many aspects of computer security involve digital security, such as electronic passwords and encryption, physical security measures such as metal locks are still used to prevent unauthorized tampering. IT security is not a perfect subset of information security, therefore does not  completely align into the security convergence schema.\n",
      "\n",
      "A vulnerability refers to a flaw in the structure, execution, functioning, or internal oversight of a computer or system that compromises its security. Most of the vulnerabilities that have been discovered are documented in the Common Vulnerabilities and Exposures (CVE) database. An exploitable vulnerability is one for which at least one working attack or exploit exists. Actors maliciously seeking vulnerabilities are known as threats. Vulnerabilities can be researched, reverse-engineered, hunted, or exploited using automated tools or customized scripts.\n",
      "\n",
      "Various people or parties are vulnerable to cyber attacks; however, different groups are likely to experience different types of attacks more than others.\n",
      "\n",
      "In April 2023, the United Kingdom Department for Science, Innovation & Technology released a report on cyber attacks over the previous 12 months. They surveyed 2,263 UK businesses, 1,174 UK registered charities, and 554 education institutions. The research found that \"32% of businesses and 24% of charities overall recall any breaches or attacks from the last 12 months.\" These figures were much higher for \"medium businesses (59%), large businesses (69%), and high-income charities with £500,000 or more in annual income (56%).\" Yet, although medium or large businesses are more often the victims, since larger companies have generally improved their security over the last decade, small and midsize businesses (SMBs) have also become increasingly vulnerable as they often \"do not have advanced tools to defend the business.\" SMBs are most likely to be affected by malware, ransomware, phishing, man-in-the-middle attacks, and Denial-of Service (DoS) Attacks.\n",
      "\n",
      "Normal internet users are most likely to be affected by untargeted cyberattacks. These are where attackers indiscriminately target as many devices, services, or users as possible. They do this using techniques that take advantage of the openness of the Internet. These strategies mostly include phishing, ransomware, water holing and scanning.\n",
      "\n",
      "To secure a computer system, it is important to understand the attacks that can be made against it, and these threats can typically be classified into one of the following categories:\n",
      "\n",
      "A backdoor in a computer system, a cryptosystem, or an algorithm is any secret method of bypassing normal authentication or security controls. These weaknesses may exist for many reasons, including original design or poor configuration. Due to the nature of backdoors, they are of greater concern to companies and databases as opposed to individuals.\n",
      "\n",
      "Backdoors may be added by an authorized party to allow some legitimate access or by an attacker for malicious reasons. Criminals often use malware to install backdoors, giving them remote administrative access to a system. Once they have access, cybercriminals can \"modify files, steal personal information, install unwanted software, and even take control of the entire computer.\"\n",
      "\n",
      "Backdoors can be very hard to detect and are usually discovered by someone who has access to the application source code or intimate knowledge of the operating system of the computer.\n",
      "\n",
      "Denial-of-service attacks (DoS) are designed to make a machine or network resource unavailable to its intended users. Attackers can deny service to individual victims, such as by deliberately entering a wrong password enough consecutive times to cause the victim's account to be locked, or they may overload the capabilities of a machine or network and block all users at once. While a network attack from a single IP address can be blocked by adding a new firewall rule, many forms of distributed denial-of-service (DDoS) attacks are possible, where the attack comes from a large number of points. In this case, defending against these attacks is much more difficult. Such attacks can originate from the zombie computers of a botnet or from a range of other possible techniques, including distributed reflective denial-of-service (DRDoS), where innocent systems are fooled into sending traffic to the victim. With such attacks, the amplification factor makes the attack easier for the attacker because they have to use little bandwidth themselves. To understand why attackers may carry out these attacks, see the 'attacker motivation' section.\n",
      "\n",
      "A direct-access attack is when an unauthorized user (an attacker) gains physical access to a computer, most likely to directly copy data from it or steal information. Attackers may also compromise security by making operating system modifications, installing software worms, keyloggers, covert listening devices or using wireless microphones. Even when the system is protected by standard security measures, these may be bypassed by booting another operating system or tool from a CD-ROM or other bootable media. Disk encryption and the Trusted Platform Module standard are designed to prevent these attacks.\n",
      "\n",
      "Direct service attackers are related in concept to direct memory attacks which allow an attacker to gain direct access to a computer's memory. The attacks \"take advantage of a feature of modern computers that allows certain devices, such as external hard drives, graphics cards, or network cards, to access the computer's memory directly.\"\n",
      "\n",
      "Eavesdropping is the act of surreptitiously listening to a private computer conversation (communication), usually between hosts on a network. It typically occurs when a user connects to a network where traffic is not secured or encrypted and sends sensitive business data to a colleague, which, when listened to by an attacker, could be exploited. Data transmitted across an open network allows an attacker to exploit a vulnerability and intercept it via various methods.\n",
      "\n",
      "\n",
      "... (Content Truncated for Display) ...\n"
     ]
    }
   ],
   "source": [
    "# URL to scrape --> We will be getting Text Directly From WikiPedia Site\n",
    "url = \"https://en.wikipedia.org/wiki/Computer_security\"\n",
    "response = requests.get(url)\n",
    "\n",
    "if response.status_code == 200:\n",
    "    # Parse the HTML content of the page\n",
    "    soup = BeautifulSoup(response.content, 'html.parser')\n",
    "    \n",
    "    # Find the main content of the Wikipedia page | This is to ignore additional references and sidebars --> Data Mining\n",
    "    content_div = soup.find('div', {'class': 'mw-parser-output'})\n",
    "    \n",
    "    # Extract all text within the main content\n",
    "    paragraphs = content_div.find_all('p')\n",
    "    text_content = []\n",
    "    \n",
    "    for para in paragraphs:\n",
    "        text = para.get_text()\n",
    "        # Add a space to separate paragraphs\n",
    "        if text.strip():\n",
    "            text_content.append(text.strip())\n",
    "    \n",
    "    # Join the paragraphs \n",
    "    full_text = \"\\n\\n\".join(text_content)\n",
    "    \n",
    "    # Remove reference numberings like [1], [2], etc. --> Data Sanitization\n",
    "    full_text = re.sub(r'\\[\\d+\\]', '', full_text)\n",
    "    \n",
    "    # Display only the first 100 lines\n",
    "    lines = full_text.split('\\n')  # Split text into lines\n",
    "    first_30_lines = lines[:30]  # Get the first 100 lines\n",
    "    \n",
    "    # Combine the lines and add ellipsis for truncation\n",
    "    preview_text = '\\n'.join(first_30_lines) + \"\\n\\n... (Content Truncated for Display) ...\"\n",
    "    \n",
    "    # Print the preview text for first 30 lines\n",
    "    print(\"Preview of Scraped Text first 30 lines:\\n\")\n",
    "    print(preview_text)\n",
    "else:\n",
    "    print(f\"Failed to fetch the webpage. Status code: {response.status_code}\")"
   ]
  },
  {
   "cell_type": "markdown",
   "id": "4ad0ac06-b667-4830-bfb4-4e2259b6bc42",
   "metadata": {},
   "source": [
    "### Tokenize sentences"
   ]
  },
  {
   "cell_type": "code",
   "execution_count": 300,
   "id": "118fbc53-fc1e-4740-b5a3-d2427483936e",
   "metadata": {
    "scrolled": true
   },
   "outputs": [
    {
     "name": "stdout",
     "output_type": "stream",
     "text": [
      "First 10 Tokenized Sentences:\n",
      "\n",
      "Computer security (also cybersecurity, digital security, or information technology (IT) security) is the protection of computer software, systems and networks from threats that can lead to unauthorized information disclosure, theft or damage to hardware, software, or data, as well as from the disruption or misdirection of the services they provide.\n",
      "The significance of the field stems from the expanded reliance on computer systems, the Internet, and wireless network standards.\n",
      "Its importance is further amplified by the growth of smart devices, including smartphones, televisions, and the various devices that constitute the Internet of things (IoT).\n",
      "Cybersecurity has emerged as one of the most significant new challenges facing the contemporary world, due to both the complexity of information systems and the societies they support.\n",
      "Security is particularly crucial for systems that govern large-scale systems with far-reaching physical effects, such as power distribution, elections, and finance.\n",
      "Although many aspects of computer security involve digital security, such as electronic passwords and encryption, physical security measures such as metal locks are still used to prevent unauthorized tampering.\n",
      "IT security is not a perfect subset of information security, therefore does not  completely align into the security convergence schema.\n",
      "A vulnerability refers to a flaw in the structure, execution, functioning, or internal oversight of a computer or system that compromises its security.\n",
      "Most of the vulnerabilities that have been discovered are documented in the Common Vulnerabilities and Exposures (CVE) database.\n",
      "An exploitable vulnerability is one for which at least one working attack or exploit exists.\n"
     ]
    }
   ],
   "source": [
    "# Tokenize the text into sentences\n",
    "sentences = nltk.sent_tokenize(full_text)\n",
    "\n",
    "# Display the first 10 tokenized sentences\n",
    "print(\"First 10 Tokenized Sentences:\\n\")\n",
    "for sentence in sentences[:10]:  \n",
    "    print(sentence)"
   ]
  },
  {
   "cell_type": "markdown",
   "id": "e75b0ec3-2518-4b81-9eb7-4137cbf1d65b",
   "metadata": {},
   "source": [
    "### Create frequency matrix of words in each sentence"
   ]
  },
  {
   "cell_type": "code",
   "execution_count": 301,
   "id": "65f96457-76c0-4d6f-94bb-046b85322cbe",
   "metadata": {
    "scrolled": true
   },
   "outputs": [
    {
     "name": "stdout",
     "output_type": "stream",
     "text": [
      "Preview of Frequency Matrix:\n",
      "\n",
      "Sentence_1: {'computer': 2, 'security': 3, 'also': 1, 'cybersecurity': 1, 'digital': 1, 'or': 4, 'information': 2, 'technology': 1, 'it': 1, 'is': 1, 'the': 3, 'protection': 1, 'of': 2, 'software': 2, 'systems': 1, 'and': 1, 'networks': 1, 'from': 2, 'threats': 1, 'that': 1, 'can': 1, 'lead': 1, 'to': 2, 'unauthorized': 1, 'disclosure': 1, 'theft': 1, 'damage': 1, 'hardware': 1, 'data': 1, 'as': 2, 'well': 1, 'disruption': 1, 'misdirection': 1, 'services': 1, 'they': 1, 'provide': 1}\n",
      "Sentence_2: {'the': 4, 'significance': 1, 'of': 1, 'field': 1, 'stems': 1, 'from': 1, 'expanded': 1, 'reliance': 1, 'on': 1, 'computer': 1, 'systems': 1, 'internet': 1, 'and': 1, 'wireless': 1, 'network': 1, 'standards': 1}\n",
      "Sentence_3: {'its': 1, 'importance': 1, 'is': 1, 'further': 1, 'amplified': 1, 'by': 1, 'the': 3, 'growth': 1, 'of': 2, 'smart': 1, 'devices': 2, 'including': 1, 'smartphones': 1, 'televisions': 1, 'and': 1, 'various': 1, 'that': 1, 'constitute': 1, 'internet': 1, 'things': 1, 'iot': 1}\n",
      "Sentence_4: {'cybersecurity': 1, 'has': 1, 'emerged': 1, 'as': 1, 'one': 1, 'of': 2, 'the': 4, 'most': 1, 'significant': 1, 'new': 1, 'challenges': 1, 'facing': 1, 'contemporary': 1, 'world': 1, 'due': 1, 'to': 1, 'both': 1, 'complexity': 1, 'information': 1, 'systems': 1, 'and': 1, 'societies': 1, 'they': 1, 'support': 1}\n",
      "Sentence_5: {'security': 1, 'is': 1, 'particularly': 1, 'crucial': 1, 'for': 1, 'systems': 2, 'that': 1, 'govern': 1, 'with': 1, 'physical': 1, 'effects': 1, 'such': 1, 'as': 1, 'power': 1, 'distribution': 1, 'elections': 1, 'and': 1, 'finance': 1}\n",
      "\n",
      "... (Content Truncated for Display) ...\n"
     ]
    }
   ],
   "source": [
    "# Initialize the frequency matrix\n",
    "frequency_matrix = {}\n",
    "\n",
    "for idx, sentence in enumerate(sentences):\n",
    "    # Tokenize the sentence into words\n",
    "    words = nltk.word_tokenize(sentence)\n",
    "    \n",
    "    # Convert words to lowercase and filter out non-alphanumeric tokens\n",
    "    words = [word.lower() for word in words if word.isalnum()]\n",
    "    \n",
    "    # Create a frequency distribution for the sentence\n",
    "    frequency_matrix[f\"Sentence_{idx+1}\"] = Counter(words)\n",
    "    \n",
    "print(\"Preview of Frequency Matrix:\\n\")\n",
    "preview_sentences = list(frequency_matrix.items())[:5]  # Limit display to the first 5 sentences\n",
    "for sentence_id, freq_dist in preview_sentences:\n",
    "    print(f\"{sentence_id}: {dict(freq_dist)}\")\n",
    "\n",
    "# Add truncation message\n",
    "print(\"\\n... (Content Truncated for Display) ...\")\n"
   ]
  },
  {
   "cell_type": "markdown",
   "id": "0b64462c-df92-4c89-9496-66d03b5b2dc5",
   "metadata": {},
   "source": [
    "### Calculate Term Frequency and Generate matrix"
   ]
  },
  {
   "cell_type": "code",
   "execution_count": 302,
   "id": "1f92f75c-bb01-4fcf-90b5-3e703b9a61c3",
   "metadata": {
    "scrolled": true
   },
   "outputs": [
    {
     "name": "stdout",
     "output_type": "stream",
     "text": [
      "Preview of Term Frequency (TF) Matrix:\n",
      "\n",
      "Sentence_1: {'computer': 0.04, 'security': 0.06, 'also': 0.02, 'cybersecurity': 0.02, 'digital': 0.02, 'or': 0.08, 'information': 0.04, 'technology': 0.02, 'it': 0.02, 'is': 0.02, 'the': 0.06, 'protection': 0.02, 'of': 0.04, 'software': 0.04, 'systems': 0.02, 'and': 0.02, 'networks': 0.02, 'from': 0.04, 'threats': 0.02, 'that': 0.02, 'can': 0.02, 'lead': 0.02, 'to': 0.04, 'unauthorized': 0.02, 'disclosure': 0.02, 'theft': 0.02, 'damage': 0.02, 'hardware': 0.02, 'data': 0.02, 'as': 0.04, 'well': 0.02, 'disruption': 0.02, 'misdirection': 0.02, 'services': 0.02, 'they': 0.02, 'provide': 0.02}\n",
      "Sentence_2: {'the': 0.21052631578947367, 'significance': 0.05263157894736842, 'of': 0.05263157894736842, 'field': 0.05263157894736842, 'stems': 0.05263157894736842, 'from': 0.05263157894736842, 'expanded': 0.05263157894736842, 'reliance': 0.05263157894736842, 'on': 0.05263157894736842, 'computer': 0.05263157894736842, 'systems': 0.05263157894736842, 'internet': 0.05263157894736842, 'and': 0.05263157894736842, 'wireless': 0.05263157894736842, 'network': 0.05263157894736842, 'standards': 0.05263157894736842}\n",
      "Sentence_3: {'its': 0.04, 'importance': 0.04, 'is': 0.04, 'further': 0.04, 'amplified': 0.04, 'by': 0.04, 'the': 0.12, 'growth': 0.04, 'of': 0.08, 'smart': 0.04, 'devices': 0.08, 'including': 0.04, 'smartphones': 0.04, 'televisions': 0.04, 'and': 0.04, 'various': 0.04, 'that': 0.04, 'constitute': 0.04, 'internet': 0.04, 'things': 0.04, 'iot': 0.04}\n",
      "Sentence_4: {'cybersecurity': 0.03571428571428571, 'has': 0.03571428571428571, 'emerged': 0.03571428571428571, 'as': 0.03571428571428571, 'one': 0.03571428571428571, 'of': 0.07142857142857142, 'the': 0.14285714285714285, 'most': 0.03571428571428571, 'significant': 0.03571428571428571, 'new': 0.03571428571428571, 'challenges': 0.03571428571428571, 'facing': 0.03571428571428571, 'contemporary': 0.03571428571428571, 'world': 0.03571428571428571, 'due': 0.03571428571428571, 'to': 0.03571428571428571, 'both': 0.03571428571428571, 'complexity': 0.03571428571428571, 'information': 0.03571428571428571, 'systems': 0.03571428571428571, 'and': 0.03571428571428571, 'societies': 0.03571428571428571, 'they': 0.03571428571428571, 'support': 0.03571428571428571}\n",
      "Sentence_5: {'security': 0.05263157894736842, 'is': 0.05263157894736842, 'particularly': 0.05263157894736842, 'crucial': 0.05263157894736842, 'for': 0.05263157894736842, 'systems': 0.10526315789473684, 'that': 0.05263157894736842, 'govern': 0.05263157894736842, 'with': 0.05263157894736842, 'physical': 0.05263157894736842, 'effects': 0.05263157894736842, 'such': 0.05263157894736842, 'as': 0.05263157894736842, 'power': 0.05263157894736842, 'distribution': 0.05263157894736842, 'elections': 0.05263157894736842, 'and': 0.05263157894736842, 'finance': 0.05263157894736842}\n",
      "\n",
      "... (Content Truncated for Display) ...\n"
     ]
    }
   ],
   "source": [
    "# Initialize the TF matrix\n",
    "tf_matrix = {}\n",
    "\n",
    "for idx, sentence in enumerate(sentences):\n",
    "    # Tokenize the sentence into words\n",
    "    words = nltk.word_tokenize(sentence)\n",
    "    \n",
    "    # Convert words to lowercase and filter out non-alphanumeric tokens\n",
    "    words = [word.lower() for word in words if word.isalnum()]\n",
    "    \n",
    "    # Calculate word frequencies in the sentence\n",
    "    word_freq = Counter(words)\n",
    "    total_words = len(words)  # Total words in the sentence\n",
    "    \n",
    "    # Calculate term frequency (TF) for each word\n",
    "    tf_matrix[f\"Sentence_{idx+1}\"] = {word: freq / total_words for word, freq in word_freq.items()}\n",
    "\n",
    "print(\"Preview of Term Frequency (TF) Matrix:\\n\")\n",
    "preview_tf = list(tf_matrix.items())[:5]  # Limit to the first 5 sentences\n",
    "for sentence_id, tf_dict in preview_tf:\n",
    "    print(f\"{sentence_id}: {tf_dict}\")\n",
    "\n",
    "print(\"\\n... (Content Truncated for Display) ...\")\n"
   ]
  },
  {
   "cell_type": "markdown",
   "id": "ec50a36a-32a4-47a7-ac68-94c34debd2c0",
   "metadata": {},
   "source": [
    "### Create a table for documents per words POS Technique"
   ]
  },
  {
   "cell_type": "code",
   "execution_count": 303,
   "id": "4bcbda74-a4c4-4b07-95fe-03c85758f08b",
   "metadata": {
    "scrolled": true
   },
   "outputs": [
    {
     "name": "stdout",
     "output_type": "stream",
     "text": [
      "Word                Documents Appeared In\n",
      "----------------------------------------\n",
      "security            104                 \n",
      "computer            61                  \n",
      "cybersecurity       41                  \n",
      "information         40                  \n",
      "access              36                  \n",
      "system              35                  \n",
      "network             29                  \n",
      "cyber               24                  \n",
      "internet            22                  \n",
      "government          22                  \n",
      "technology          20                  \n",
      "attack              20                  \n",
      "software            18                  \n",
      "use                 17                  \n",
      "attacker            14                  \n",
      "protection          13                  \n",
      "secure              13                  \n",
      "card                13                  \n",
      "risk                13                  \n",
      "organization        12                  \n",
      "response            12                  \n",
      "vulnerability       11                  \n",
      "malware             11                  \n",
      "credit              11                  \n",
      "order               11                  \n",
      "world               10                  \n",
      "program             10                  \n",
      "management          10                  \n",
      "infrastructure      10                  \n",
      "act                 9                   \n"
     ]
    }
   ],
   "source": [
    "# Initialize a dictionary to count documents per word\n",
    "word_document_count = defaultdict(int)\n",
    "\n",
    "# Use the existing frequency matrix\n",
    "for sentence_id, freq_dist in frequency_matrix.items():\n",
    "    # Get unique words in the sentence\n",
    "    unique_words = set(freq_dist.keys())\n",
    "    \n",
    "    # Perform PoS tagging\n",
    "    pos_tags = nltk.pos_tag(unique_words)\n",
    "    \n",
    "    # Update document count for nouns and proper nouns, excluding stop words\n",
    "    for word, tag in pos_tags:\n",
    "        if word not in stop_words and tag in ('NN', 'NNP'):\n",
    "            word_document_count[word] += 1\n",
    "\n",
    "# Sort the words by document count in descending order\n",
    "sorted_words = sorted(word_document_count.items(), key=lambda x: x[1], reverse=True)\n",
    "\n",
    "# Print the top 30 words in a table format\n",
    "print(f\"{'Word':<20}{'Documents Appeared In':<20}\")\n",
    "print(\"-\" * 40)\n",
    "for word, count in sorted_words[:30]:  # Display only the top 30\n",
    "    print(f\"{word:<20}{count:<20}\")\n"
   ]
  },
  {
   "cell_type": "markdown",
   "id": "71e0ce1c-76a3-4ec7-93ff-50cc75c067de",
   "metadata": {},
   "source": [
    "### Calculate IDF and generate matrix"
   ]
  },
  {
   "cell_type": "code",
   "execution_count": 304,
   "id": "f0940c1d-3d8d-4752-a741-ef674e5a582c",
   "metadata": {},
   "outputs": [
    {
     "name": "stdout",
     "output_type": "stream",
     "text": [
      "Word                IDF       \n",
      "------------------------------\n",
      "lead                6.1527    \n",
      "disruption          6.1527    \n",
      "misdirection        6.1527    \n",
      "wireless            6.1527    \n",
      "reliance            6.1527    \n",
      "significance        6.1527    \n",
      "importance          6.1527    \n",
      "complexity          6.1527    \n",
      "metal               6.1527    \n",
      "perfect             6.1527    \n",
      "therefore           6.1527    \n",
      "schema              6.1527    \n",
      "subset              6.1527    \n",
      "flaw                6.1527    \n",
      "execution           6.1527    \n",
      "cve                 6.1527    \n",
      "exploitable         6.1527    \n",
      "income              6.1527    \n",
      "midsize             6.1527    \n",
      "decade              6.1527    \n",
      "openness            6.1527    \n",
      "method              6.1527    \n",
      "algorithm           6.1527    \n",
      "cryptosystem        6.1527    \n",
      "configuration       6.1527    \n",
      "install             6.1527    \n",
      "modify              6.1527    \n",
      "steal               6.1527    \n",
      "intimate            6.1527    \n",
      "resource            6.1527    \n"
     ]
    }
   ],
   "source": [
    "# Total number of sentences (documents)\n",
    "N = len(frequency_matrix)\n",
    "\n",
    "# Calculate IDF for nouns and proper nouns only\n",
    "idf_matrix = {word: math.log(N / count) for word, count in word_document_count.items() if count > 0}\n",
    "\n",
    "# Sort the IDF matrix by values in descending order\n",
    "sorted_idf = sorted(idf_matrix.items(), key=lambda x: x[1], reverse=True)\n",
    "\n",
    "# Print the top 30 IDF words\n",
    "print(f\"{'Word':<20}{'IDF':<10}\")\n",
    "print(\"-\" * 30)\n",
    "for word, idf in sorted_idf[:30]:  # Display only the top 30\n",
    "    print(f\"{word:<20}{idf:<10.4f}\")"
   ]
  },
  {
   "cell_type": "markdown",
   "id": "1b4cd036-d172-4289-a154-aea1bc4570d4",
   "metadata": {},
   "source": [
    "### Calculate TF-IDF and generate matrix"
   ]
  },
  {
   "cell_type": "code",
   "execution_count": 305,
   "id": "fb5187d2-ecee-47ae-b754-560f79ed4161",
   "metadata": {},
   "outputs": [
    {
     "name": "stdout",
     "output_type": "stream",
     "text": [
      "Word                TF-IDF    Sentence  \n",
      "----------------------------------------\n",
      "dod                 36.9164   Sentence_410\n",
      "loss                18.1732   Sentence_218\n",
      "care                16.3788   Sentence_229\n",
      "hygiene             15.1624   Sentence_177\n",
      "team                13.6299   Sentence_89\n",
      "energy              13.0829   Sentence_270\n",
      "data                12.3055   Sentence_49\n",
      "architecture        12.3055   Sentence_117\n",
      "data                12.3055   Sentence_124\n",
      "something           12.3055   Sentence_146\n",
      "inoculation         12.3055   Sentence_152\n",
      "node                12.3055   Sentence_178\n",
      "layer               12.3055   Sentence_193\n",
      "data                12.3055   Sentence_266\n",
      "data                12.3055   Sentence_331\n",
      "data                12.3055   Sentence_354\n",
      "disclosure          12.3055   Sentence_402\n",
      "ware                12.3055   Sentence_443\n",
      "design              12.2199   Sentence_111\n",
      "control             12.2199   Sentence_166\n",
      "health              12.2199   Sentence_229\n",
      "cyber               11.8987   Sentence_175\n",
      "memory              10.9192   Sentence_42\n",
      "effect              10.9192   Sentence_81\n",
      "spoofing            10.9192   Sentence_92\n",
      "html                10.9192   Sentence_96\n",
      "list                10.9192   Sentence_164\n",
      "hospital            10.9192   Sentence_266\n",
      "minister            10.9192   Sentence_372\n",
      "policy              10.9192   Sentence_374\n"
     ]
    }
   ],
   "source": [
    "# Initialize the TF-IDF matrix\n",
    "tf_idf_matrix = {}\n",
    "\n",
    "# Calculate TF-IDF for each word in each sentence\n",
    "for sentence_id, word_freq in frequency_matrix.items():\n",
    "    tf_idf_matrix[sentence_id] = {}\n",
    "    for word, tf in word_freq.items():\n",
    "        if word in idf_matrix:  # Only calculate for words in IDF matrix\n",
    "            tf_idf_matrix[sentence_id][word] = tf * idf_matrix[word]\n",
    "\n",
    "# Combine all TF-IDF scores into a single list for sorting and ranking\n",
    "tf_idf_scores = []\n",
    "for sentence_id, word_scores in tf_idf_matrix.items():\n",
    "    for word, tf_idf in word_scores.items():\n",
    "        tf_idf_scores.append((word, tf_idf, sentence_id))\n",
    "\n",
    "# Sort the scores by TF-IDF value in descending order\n",
    "sorted_tf_idf = sorted(tf_idf_scores, key=lambda x: x[1], reverse=True)\n",
    "\n",
    "# Print the top 30 TF-IDF scores\n",
    "print(f\"{'Word':<20}{'TF-IDF':<10}{'Sentence':<10}\")\n",
    "print(\"-\" * 40)\n",
    "for word, tf_idf, sentence_id in sorted_tf_idf[:30]:  # Display only the top 30\n",
    "    print(f\"{word:<20}{tf_idf:<10.4f}{sentence_id:<10}\")\n"
   ]
  },
  {
   "cell_type": "markdown",
   "id": "34bf366f-4c28-453c-8eb1-2e5d58793bbe",
   "metadata": {},
   "source": [
    "### Score the sentences"
   ]
  },
  {
   "cell_type": "code",
   "execution_count": 306,
   "id": "0c2f5b70-facb-4493-a06d-3656f432c0e8",
   "metadata": {},
   "outputs": [
    {
     "name": "stdout",
     "output_type": "stream",
     "text": [
      "Sentence       Score     \n",
      "------------------------------\n",
      "Sentence_410   106.8150  \n",
      "Sentence_382   102.0011  \n",
      "Sentence_402   96.2920   \n",
      "Sentence_313   90.6078   \n",
      "Sentence_391   90.3172   \n"
     ]
    }
   ],
   "source": [
    "sentence_scores = {}\n",
    "\n",
    "# Calculate the score for each sentence\n",
    "for sentence_id, word_scores in tf_idf_matrix.items():\n",
    "    # Sum all TF-IDF scores of words in the sentence\n",
    "    sentence_scores[sentence_id] = sum(word_scores.values())\n",
    "\n",
    "# Sort the sentences by their scores in descending order\n",
    "sorted_sentences = sorted(sentence_scores.items(), key=lambda x: x[1], reverse=True)\n",
    "\n",
    "# Print the top 5 scored sentences\n",
    "print(f\"{'Sentence':<15}{'Score':<10}\")\n",
    "print(\"-\" * 30)\n",
    "for sentence_id, score in sorted_sentences[:5]:  # Display top 5 sentences\n",
    "    print(f\"{sentence_id:<15}{score:<10.4f}\")\n"
   ]
  },
  {
   "cell_type": "markdown",
   "id": "049f67bd-3364-46ae-9aee-11ff111a4bce",
   "metadata": {},
   "source": [
    "### Set the threshold - Currently At 70 Percent"
   ]
  },
  {
   "cell_type": "code",
   "execution_count": 307,
   "id": "b2a669dd-e495-4c82-85af-1afbc1cad31d",
   "metadata": {
    "scrolled": true
   },
   "outputs": [
    {
     "name": "stdout",
     "output_type": "stream",
     "text": [
      "Mean Threshold: 29.0885\n",
      "70% of Max Threshold: 74.7705\n"
     ]
    }
   ],
   "source": [
    "# Calculate thresholds\n",
    "mean_threshold = sum(sentence_scores.values()) / len(sentence_scores)\n",
    "max_threshold = max(sentence_scores.values()) * 0.7\n",
    "\n",
    "print(f\"Mean Threshold: {mean_threshold:.4f}\")\n",
    "print(f\"70% of Max Threshold: {max_threshold:.4f}\")\n"
   ]
  },
  {
   "cell_type": "markdown",
   "id": "0159e747-d5e4-498f-920f-06893f6b87be",
   "metadata": {},
   "source": [
    "### Generate the summary"
   ]
  },
  {
   "cell_type": "code",
   "execution_count": 308,
   "id": "6f1ee08e-6c87-415a-ba99-623077a2ecf6",
   "metadata": {},
   "outputs": [
    {
     "name": "stdout",
     "output_type": "stream",
     "text": [
      "Generated Refined Summary:\n",
      "\n",
      "Computer security (also cybersecurity, digital security, or information technology (IT) security) is the protection of computer software, systems and networks from threats that can lead to unauthorized information disclosure, theft or damage to hardware, software, or data, as well as from the disruption or misdirection of the services they provide. As the human component of cyber risk is particularly relevant in determining the global cyber risk an organization is facing, security awareness training, at all levels, not only provides formal compliance with regulatory and industry mandates but is considered essential in reducing cyber risk and protecting individuals and companies from the great majority of cyber threats. Websites and apps that accept or store credit card numbers, brokerage accounts, and bank account information are also prominent hacking targets, because of the potential for immediate financial gain from transferring money, making purchases, or selling the information on the black market. The most common web technologies for improving security between browsers and websites are named SSL (Secure Sockets Layer), and its successor TLS (Transport Layer Security), identity management and authentication services, and domain name services allow companies and consumers to engage in secure communications and commerce. However, as these devices serve as potential access points to the hospital network, security threats increase, and hospitals have to introduce adequate security measures which, for example, comply with the Health Insurance Portability and Accountability Act (HIPAA). The intruders were able to obtain classified files, such as air tasking order systems data and furthermore able to penetrate connected networks of National Aeronautics and Space Administration's Goddard Space Flight Center, Wright-Patterson Air Force Base, some Defense contractors, and other private sector organizations, by posing as a trusted Rome center user. In this policy, the US says it will: Protect the country by keeping networks, systems, functions, and data safe; Promote American wealth by building a strong digital economy and encouraging strong domestic innovation; Peace and safety should be kept by making it easier for the US to stop people from using computer tools for bad things, working with friends and partners to do this; and increase the United States' impact around the world to support the main ideas behind an open, safe, reliable, and compatible Internet. In response to the Colonial Pipeline ransomware attack President Joe Biden signed Executive Order 14028 on May 12, 2021, to increase software security standards for sales to the government, tighten detection and security on existing systems, improve information sharing and training, establish a Cyber Safety Review Board, and improve incident response. In 2017, CCIPS published A Framework for a Vulnerability Disclosure Program for Online Systems to help organizations \"clearly describe authorized vulnerability disclosure and discovery conduct, thereby substantially reducing the likelihood that such described activities will result in a civil or criminal violation of law under the Computer Fraud and Abuse Act (18 U.S.C. The US Department of Defense (DoD) issued DoD Directive 8570 in 2004, supplemented by DoD Directive 8140, requiring all DoD employees and all DoD contract personnel involved in information assurance roles and activities to earn and maintain various industry Information Technology (IT) certifications in an effort to ensure that all DoD personnel involved in network infrastructure defense have minimum levels of IT industry recognized knowledge, skills and abilities (KSA).\n"
     ]
    }
   ],
   "source": [
    "# Select sentences above the thresholds\n",
    "selected_sentences = []\n",
    "selected_words = set()\n",
    "\n",
    "for sentence_id, score in sorted(sentence_scores.items(), key=lambda x: x[1], reverse=True):\n",
    "    sentence_index = int(sentence_id.split('_')[1]) - 1\n",
    "    sentence_text = sentences[sentence_index]\n",
    "    words_in_sentence = set(sentence_text.lower().split())\n",
    "    \n",
    "    # Check if the sentence score meets either threshold\n",
    "    if score > max_threshold:\n",
    "        # Avoid redundancy by checking word overlap\n",
    "        if len(selected_words.intersection(words_in_sentence)) / len(words_in_sentence) < 0.5:\n",
    "            selected_sentences.append((sentence_index, sentence_text))\n",
    "            selected_words.update(words_in_sentence)\n",
    "\n",
    "# Sort selected sentences by their original order\n",
    "selected_sentences.sort(key=lambda x: x[0])\n",
    "\n",
    "# Combine selected sentences into a summary\n",
    "summary = \" \".join([s[1] for s in selected_sentences])\n",
    "\n",
    "print(\"Generated Refined Summary:\\n\")\n",
    "print(summary)"
   ]
  },
  {
   "cell_type": "markdown",
   "id": "cb89b890-2450-4244-a160-dfb45dcca3cb",
   "metadata": {},
   "source": [
    "<h2 style=\"color: #2b6cb0; font-family: 'Roboto', sans-serif; font-weight: 600; text-align: left;\">\n",
    "Approach 2: Using TF-IDF Vectorization Along with PageRanking Algorithm and Cosine Similarity\n",
    "</h2>\n"
   ]
  },
  {
   "cell_type": "code",
   "execution_count": 309,
   "id": "065f40ed-ee64-4217-a926-da9815baa8df",
   "metadata": {},
   "outputs": [
    {
     "name": "stdout",
     "output_type": "stream",
     "text": [
      "Generated Summary:\n",
      "\n",
      "Computer security (also cybersecurity, digital security, or information technology (IT) security) is the protection of computer software, systems and networks from threats that can lead to unauthorized information disclosure, theft or damage to hardware, software, or data, as well as from the disruption or misdirection of the services they provide. In practice, the role of a security architect would be to ensure the structure of a system reinforces the security of the system, and that new changes are safe and meet the security requirements of the organization. To secure a computer system, it is important to understand the attacks that can be made against it, and these threats can typically be classified into one of the following categories:\n",
      "\n",
      "A backdoor in a computer system, a cryptosystem, or an algorithm is any secret method of bypassing normal authentication or security controls. The role of the government is to make regulations to force companies and organizations to protect their systems, infrastructure and information from any cyberattacks, but also to protect its own national infrastructure such as the national power-grid. Spoofing is an act of pretending to be a valid entity through the falsification of data (such as an IP address or username), in order to gain access to information or resources that one is otherwise unauthorized to obtain. The National Cyber Security Policy 2013 is a policy framework by the Ministry of Electronics and Information Technology (MeitY) which aims to protect the public and private infrastructure from cyberattacks, and safeguard \"information, such as personal information (of web users), financial and banking information and sovereign data\". In Side-channel attack scenarios, the attacker would gather such information about a system or network to guess its internal state and as a result access the information which is assumed by the victim to be secure. In this policy, the US says it will: Protect the country by keeping networks, systems, functions, and data safe; Promote American wealth by building a strong digital economy and encouraging strong domestic innovation; Peace and safety should be kept by making it easier for the US to stop people from using computer tools for bad things, working with friends and partners to do this; and increase the United States' impact around the world to support the main ideas behind an open, safe, reliable, and compatible Internet. In the United Kingdom, a nationwide set of cybersecurity forums, known as the U.K Cyber Security Forum, were established supported by the Government's cybersecurity strategy in order to encourage start-ups and innovation and to address the skills gap identified by the U.K Government. Backdoors can be very hard to detect and are usually discovered by someone who has access to the application source code or intimate knowledge of the operating system of the computer.\n"
     ]
    }
   ],
   "source": [
    "import nltk\n",
    "from sklearn.feature_extraction.text import TfidfVectorizer\n",
    "from sklearn.metrics.pairwise import cosine_similarity\n",
    "import networkx as nx\n",
    "\n",
    "# Step 1: Tokenize the text into sentences\n",
    "sentences = nltk.sent_tokenize(full_text)\n",
    "\n",
    "# Step 2: Generate the TF-IDF matrix for sentence similarity\n",
    "vectorizer = TfidfVectorizer().fit_transform(sentences)\n",
    "similarity_matrix = cosine_similarity(vectorizer)\n",
    "\n",
    "# Step 3: Build the sentence graph\n",
    "sentence_graph = nx.from_numpy_array(similarity_matrix)\n",
    "\n",
    "# Step 4: Rank sentences using the PageRank algorithm\n",
    "scores = nx.pagerank(sentence_graph)\n",
    "\n",
    "# Step 5: Sort sentences by score\n",
    "ranked_sentences = sorted(((scores[i], s) for i, s in enumerate(sentences)), reverse=True)\n",
    "\n",
    "# Step 6: Select the top N sentences for the summary\n",
    "N = 10  # Number of sentences in the summary\n",
    "summary = \" \".join([s for _, s in ranked_sentences[:N]])\n",
    "\n",
    "# Print the improved summary\n",
    "print(\"Generated Summary:\\n\")\n",
    "print(summary)\n"
   ]
  },
  {
   "cell_type": "code",
   "execution_count": null,
   "id": "c297bf82-3942-4dfe-abfa-04d28c914dd0",
   "metadata": {},
   "outputs": [],
   "source": []
  }
 ],
 "metadata": {
  "kernelspec": {
   "display_name": "Python 3 (ipykernel)",
   "language": "python",
   "name": "python3"
  },
  "language_info": {
   "codemirror_mode": {
    "name": "ipython",
    "version": 3
   },
   "file_extension": ".py",
   "mimetype": "text/x-python",
   "name": "python",
   "nbconvert_exporter": "python",
   "pygments_lexer": "ipython3",
   "version": "3.12.2"
  }
 },
 "nbformat": 4,
 "nbformat_minor": 5
}
